{
 "cells": [
  {
   "cell_type": "code",
   "execution_count": 20,
   "id": "5e49e17a-7ed7-4d92-8b2f-79c03ddfdfbb",
   "metadata": {},
   "outputs": [
    {
     "name": "stdout",
     "output_type": "stream",
     "text": [
      "Writing config\n"
     ]
    }
   ],
   "source": [
    "%%writefile config\n",
    "\n",
    "# from NeuralNetwork import *\n",
    "\n",
    "\n",
    "\n",
    "# The `NEAT` section specifies parameters particular to the NEAT algorithm\n",
    "# or the experiment itself.  This is the only required section.\n",
    "[NEAT]\n",
    "fitness_criterion     = mean\n",
    "fitness_threshold     = .2\n",
    "pop_size              = 6\n",
    "reset_on_extinction   = True\n",
    "\n",
    "[DefaultGenome]\n",
    "num_inputs              = 24\n",
    "num_hidden              = 1  \n",
    "num_outputs             = 7\n",
    "\n",
    "\n",
    "initial_connection      = partial_direct 0.5\n",
    "feed_forward            = True\n",
    "compatibility_disjoint_coefficient    = 1.0\n",
    "compatibility_weight_coefficient      = 0.6\n",
    "conn_add_prob           = 0.2\n",
    "conn_delete_prob        = 0.2\n",
    "node_add_prob           = 0.25\n",
    "node_delete_prob        = 0.25\n",
    "activation_default      = sigmoid\n",
    "activation_options      = sigmoid\n",
    "activation_mutate_rate  = 0.0\n",
    "aggregation_default     = sum\n",
    "aggregation_options     = sum\n",
    "aggregation_mutate_rate = 0.0\n",
    "bias_init_mean          = 0.0\n",
    "bias_init_stdev         = 1.0\n",
    "bias_replace_rate       = 0.1\n",
    "bias_mutate_rate        = 0.7\n",
    "bias_mutate_power       = 0.5\n",
    "bias_max_value          = 30.0\n",
    "bias_min_value          = -30.0\n",
    "response_init_mean      = 1.0\n",
    "response_init_stdev     = 0.0\n",
    "response_replace_rate   = 0.0\n",
    "response_mutate_rate    = 0.0\n",
    "response_mutate_power   = 0.0\n",
    "response_max_value      = 30.0\n",
    "response_min_value      = -30.0\n",
    "\n",
    "weight_max_value        = 30\n",
    "weight_min_value        = -30\n",
    "weight_init_mean        = 0.0\n",
    "weight_init_stdev       = 1.0\n",
    "weight_mutate_rate      = 0.8\n",
    "weight_replace_rate     = 0.1\n",
    "weight_mutate_power     = 0.5\n",
    "enabled_default         = True\n",
    "enabled_mutate_rate     = 0.01\n",
    "\n",
    "[DefaultSpeciesSet]\n",
    "compatibility_threshold = 3.0\n",
    "\n",
    "[DefaultStagnation]\n",
    "species_fitness_func = max\n",
    "max_stagnation  = 20\n",
    "\n",
    "[DefaultReproduction]\n",
    "elitism            = 2\n",
    "survival_threshold = 0.2"
   ]
  }
 ],
 "metadata": {
  "kernelspec": {
   "display_name": "Python 3 (ipykernel)",
   "language": "python",
   "name": "python3"
  },
  "language_info": {
   "codemirror_mode": {
    "name": "ipython",
    "version": 3
   },
   "file_extension": ".py",
   "mimetype": "text/x-python",
   "name": "python",
   "nbconvert_exporter": "python",
   "pygments_lexer": "ipython3",
   "version": "3.11.7"
  }
 },
 "nbformat": 4,
 "nbformat_minor": 5
}
