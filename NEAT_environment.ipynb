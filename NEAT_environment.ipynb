{
 "cells": [
  {
   "cell_type": "code",
   "execution_count": 13,
   "id": "ea95a364-07ff-4dd0-81d3-9be518f20d61",
   "metadata": {},
   "outputs": [
    {
     "name": "stdout",
     "output_type": "stream",
     "text": [
      "Writing Simulation.py\n"
     ]
    }
   ],
   "source": [
    "%%writefile Simulation.py\n",
    "print('imported Simulation')\n",
    "\n",
    "from tqdm import tqdm\n",
    "import matplotlib.pyplot as plt\n",
    "import numpy as np\n",
    "from matplotlib.colors import to_rgba\n",
    "import math\n",
    "import time\n",
    "import networkx as nx\n",
    "\n",
    "\n",
    "from NeuralNetwork import * \n",
    "from Observation import *\n",
    "from AgentModule import *\n",
    "from InitializationVariables import *\n",
    "from Environment import *\n",
    "from Evolution import initializeAgents, runCycle, simCycle\n",
    "\n",
    "\n",
    "\n",
    "def RunSim(gene):\n",
    "    #Initialize environment and next_environment\n",
    "    environment, agents, environment_pop_density = initialize()\n",
    "    \n",
    "    agents = initializeAgents(agent_count, agents, gene)\n",
    "    \n",
    "    barrierMask = getBarrierMask()\n",
    "    distToBarrier = getBarrierMaskDist(barrierMask)\n",
    "    survivalMask = getSurvivalMask()\n",
    "    \n",
    "    starter_agents = agents\n",
    "    \n",
    "    \n",
    "    ###For an easier environment that reaches equilibrium much faster\n",
    "    \n",
    "    # barrierMask = getEmptyBarrierMask()\n",
    "    survivalMask[0:-1,0:-1] = 0\n",
    "    # # survivalMask[environment_xSize//4 : 3*environment_xSize//4, environment_ySize//4 : 3*environment_ySize//4  ]= 1\n",
    "    survivalMask[:, 0 :environment_xSize//4   ]= 1\n",
    "    \n",
    "    ### easy env end\n",
    "\n",
    "    livingAgents, environment, killcount = simCycle(steps_per_cycle, agents, environment, barrierMask, distToBarrier, survivalMask,environment_pop_density, killing)\n",
    "\n",
    "    return len(livingAgents)/agent_count\n",
    "\n",
    "\n",
    "def WatchSim(gene):\n",
    "    #Initialize environment and next_environment\n",
    "    environment, agents, environment_pop_density = initialize()\n",
    "    \n",
    "    agents = initializeAgents(agent_count, agents, gene)\n",
    "    \n",
    "    barrierMask = getBarrierMask()\n",
    "    distToBarrier = getBarrierMaskDist(barrierMask)\n",
    "    survivalMask = getSurvivalMask()\n",
    "    \n",
    "    starter_agents = agents\n",
    "    \n",
    "    \n",
    "    ###For an easier environment that reaches equilibrium much faster\n",
    "    \n",
    "    barrierMask = getEmptyBarrierMask()\n",
    "    survivalMask[0:-1,0:-1] = 0\n",
    "    # survivalMask[environment_xSize//4 : 3*environment_xSize//4, environment_ySize//4 : 3*environment_ySize//4  ]= 1\n",
    "    survivalMask[:, 0 :environment_xSize//4   ]= 1\n",
    "    \n",
    "    ### easy env end\n",
    "\n",
    "    livingAgents, environment, killcount = runCycle(steps_per_cycle, agents, environment, barrierMask, distToBarrier, survivalMask,environment_pop_density, killing)\n",
    "\n",
    "    return len(livingAgents)/agent_count"
   ]
  }
 ],
 "metadata": {
  "kernelspec": {
   "display_name": "Python 3 (ipykernel)",
   "language": "python",
   "name": "python3"
  },
  "language_info": {
   "codemirror_mode": {
    "name": "ipython",
    "version": 3
   },
   "file_extension": ".py",
   "mimetype": "text/x-python",
   "name": "python",
   "nbconvert_exporter": "python",
   "pygments_lexer": "ipython3",
   "version": "3.11.7"
  }
 },
 "nbformat": 4,
 "nbformat_minor": 5
}
