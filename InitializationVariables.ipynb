{
 "cells": [
  {
   "cell_type": "code",
   "execution_count": 37,
   "id": "6e8bc905",
   "metadata": {},
   "outputs": [
    {
     "name": "stdout",
     "output_type": "stream",
     "text": [
      "Overwriting InitializationVariables.py\n"
     ]
    }
   ],
   "source": [
    "%%writefile InitializationVariables.py\n",
    "print('Imported initialized Variables')\n",
    "from numpy import pi\n",
    "\n",
    "\n",
    "##IMPORTANT PARAMETERS FOR 530 FINAL\n",
    "\n",
    "# X-Y length of environment grid\n",
    "\n",
    "environment_xSize = 300\n",
    "environment_ySize = 300\n",
    "\n",
    "agent_radius = 5\n",
    "vision_distance = environment_ySize\n",
    "\n",
    "showRays = True #If true - visualizes the vision rays of agents. (RUNS MUCH SLOWER)\n",
    "\n",
    "collisionKillsBoth = False #Do agents die if they collide with each other\n",
    "\n",
    "agent_count = 10\n",
    "steps_per_cycle = 200\n",
    "maxVelocity = 5\n",
    "\n",
    "\n",
    "\n",
    "\n",
    "\n",
    "\n",
    "\n",
    "##END IMPORTANT PARAMS\n",
    "\n",
    "# Wrapping on environment, 1 - on : 0 - off\n",
    "xWrapping = 0 \n",
    "yWrapping = 0\n",
    "\n",
    "\n",
    "numGenerations = 1\n",
    "plot_freq = 1\n",
    "\n",
    "\n",
    "## FOR NEAT\n",
    "runs_per_net = 2\n",
    "simulation_seconds = 60.0\n",
    "\n",
    "\n",
    "network_edges = 10\n",
    "D_r = 120\n",
    "\n",
    "\n",
    "\n",
    "#For Rays:\n",
    "angleMax = pi/3\n",
    "numRays = 7\n",
    "\n",
    "maxAngularVelocity = pi/6\n",
    "\n",
    "\n",
    "Softmax_on = False\n",
    "\n",
    "\n",
    "mutation_chance = 0.1\n",
    "\n",
    "killing = False\n",
    "collisionsKill = False\n",
    "\n",
    "pheramoneDecayRate = .5 #How much pheramones decay each step\n",
    "\n",
    "# How much of an effect comes from 1 agent\n",
    "pheramoneScale = 50\n",
    "popScale = 50\n",
    "\n",
    "monogamous = 0 # 1 - each agent reproduce with one random agent x times : 0 - each agent reproduce with x random agents one time\n"
   ]
  },
  {
   "cell_type": "code",
   "execution_count": null,
   "id": "b4e7b24e-2384-4f08-a24d-0e669930364a",
   "metadata": {},
   "outputs": [],
   "source": []
  }
 ],
 "metadata": {
  "kernelspec": {
   "display_name": "Python 3 (ipykernel)",
   "language": "python",
   "name": "python3"
  },
  "language_info": {
   "codemirror_mode": {
    "name": "ipython",
    "version": 3
   },
   "file_extension": ".py",
   "mimetype": "text/x-python",
   "name": "python",
   "nbconvert_exporter": "python",
   "pygments_lexer": "ipython3",
   "version": "3.11.7"
  }
 },
 "nbformat": 4,
 "nbformat_minor": 5
}
