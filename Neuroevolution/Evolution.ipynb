{
 "cells": [
  {
   "cell_type": "code",
   "execution_count": 2,
   "id": "01764ada",
   "metadata": {},
   "outputs": [
    {
     "name": "stdout",
     "output_type": "stream",
     "text": [
      "Overwriting Evolution.py\n"
     ]
    }
   ],
   "source": [
    "%%writefile Evolution.py\n",
    "from AgentModule import *\n",
    "from Environment import *\n",
    "from Observation import *\n",
    "from InitializationVariables import *\n",
    "\n",
    "from IPython import display\n",
    "import time\n",
    "\n",
    "\n",
    "print('imported evolution module')\n",
    "\n",
    "def initializeAgents(agent_count, agents = None):\n",
    "    if not agents:\n",
    "        agents = []\n",
    "    for i in range(agent_count):\n",
    "        agent_instance = Agent(id=(i+1), gene=getStartGene(), xCoord = random.randint(0, environment_xSize - 1), yCoord=random.randint(0, environment_ySize - 1))\n",
    "        agents.append(agent_instance)\n",
    "    return agents\n",
    "\n",
    "\n",
    "def runCycle(steps_per_cycle, agents, environment, barrierMask,distToBarrier, survivalMask, environment_pop_density, environment_pheramones, killing):\n",
    "    colorScale = getColorScale(agents)\n",
    "    for i in range(steps_per_cycle):\n",
    "        operateAll(agents, barrierMask, distToBarrier, environment_pop_density, environment_pheramones, killing)\n",
    "        observe(environment, agents, barrierMask, survivalMask, colorScale)\n",
    "        environment = resetEnv(environment)\n",
    "        environment_pop_density = getPopDensity(environment_pop_density, agents)\n",
    "        environment_pheramones = getPheramones(environment_pheramones, agents)\n",
    "        display.clear_output(wait=True)\n",
    "        time.sleep(0.1)\n",
    "    livingAgents, killcount = collectLivingAgents(agents, survivalMask)\n",
    "    environment = resetEnv(environment)\n",
    "    return livingAgents, environment, killcount\n",
    "\n",
    "def simCycle(steps_per_cycle, agents, environment, barrierMask, distToBarrier, survivalMask, environment_pop_density, environment_pheramones, killing):\n",
    "    for i in range(steps_per_cycle):\n",
    "        operateAll(agents, barrierMask, distToBarrier, environment_pop_density, environment_pheramones, killing)\n",
    "        environment = resetEnv(environment)\n",
    "    livingAgents, killcount = collectLivingAgents(agents, survivalMask)\n",
    "    environment = resetEnv(environment)\n",
    "    return livingAgents, environment, killcount\n",
    "\n",
    "\n",
    "def collectLivingAgents(agents, survivalMask):\n",
    "    livingAgents = []\n",
    "    killCount = 0\n",
    "    for agent in agents:\n",
    "        if not agent.dead:\n",
    "            if survivalMask[agent.xCoord][agent.yCoord] : livingAgents.append(agent)\n",
    "        else: killCount += 1\n",
    "    return livingAgents, killCount\n",
    "\n",
    "\n",
    "\n",
    "def repopulateAgents(livingAgents, monogamous):\n",
    "    nextGenAgents = []\n",
    "    survivors = len(livingAgents)\n",
    "    reproduction_rate = agent_count / survivors\n",
    "    if monogamous : \n",
    "        for agent in livingAgents:\n",
    "            partner = livingAgents[random.randint(0, survivors-1)]\n",
    "            for i in range (round(reproduction_rate)):\n",
    "                child = breed(agent, partner)\n",
    "                nextGenAgents.append(child)\n",
    "    else :\n",
    "        for agent in livingAgents:\n",
    "            for i in range (round(reproduction_rate)):\n",
    "                partner = livingAgents[random.randint(0, survivors-1)]\n",
    "                child = breed(agent, partner)\n",
    "                nextGenAgents.append(child)\n",
    "                \n",
    "    return nextGenAgents\n",
    "\n",
    "def avg_int(a, b):\n",
    "    return (a+b)%agent_count\n",
    "\n",
    "def breed(agent1, agent2):\n",
    "    child = Agent(avg_int(agent1.id, agent2.id), mutate(agent1.gene,agent2.gene), xCoord = random.randint(0, environment_xSize - 1), yCoord=random.randint(0, environment_ySize - 1))\n",
    "    return child\n",
    "\n",
    "\n",
    "def mutate(gene1, gene2):\n",
    "    gene1_str = str(gene1)\n",
    "    gene2_str = str(gene2)\n",
    "    \n",
    "    if(random.random() < mutation_chance):\n",
    "        mutation_spot = random.randint(0,len(gene1_str)-1)\n",
    "        mutation_char = str(random.randint(0,9))\n",
    "        if mutation_spot == 0:\n",
    "            if mutation_char == '0' : mutation_spot = random.randint(1,len(gene1_str)-1)\n",
    "        gene1_str = gene1_str[:mutation_spot] + mutation_char + gene1_str[mutation_spot + 1:]\n",
    "        \n",
    "    if(random.random() < mutation_chance):\n",
    "        mutation_spot = random.randint(0,len(gene2_str)-1)\n",
    "        mutation_char = str(random.randint(0,9))\n",
    "        gene2_str = gene2_str[:mutation_spot] + mutation_char + gene2_str[mutation_spot + 1:]\n",
    "    \n",
    "    gene_merged = int(gene1_str[:int((len(gene1_str))/2)] + gene2_str[int((len(gene1_str))/2) :] )\n",
    "    \n",
    "    return gene_merged\n",
    "\n",
    "def getStartGene():\n",
    "    digits = 6 * network_edges \n",
    "    gene = random.randint(0, pow(10, digits))\n",
    "    return gene\n",
    "\n",
    "\n",
    "def getColorScale(agents):\n",
    "    maxVal = 1\n",
    "    for agent in agents:\n",
    "        thisVal = np.max(np.abs(agent.color))\n",
    "        if thisVal > maxVal: maxVal = thisVal\n",
    "    return maxVal\n"
   ]
  },
  {
   "cell_type": "code",
   "execution_count": 5,
   "id": "9ba2a050",
   "metadata": {},
   "outputs": [],
   "source": [
    "import numpy as np"
   ]
  },
  {
   "cell_type": "code",
   "execution_count": 6,
   "id": "d0beee4e",
   "metadata": {},
   "outputs": [
    {
     "data": {
      "text/plain": [
       "5"
      ]
     },
     "execution_count": 6,
     "metadata": {},
     "output_type": "execute_result"
    }
   ],
   "source": [
    "np.abs(-5)"
   ]
  },
  {
   "cell_type": "code",
   "execution_count": null,
   "id": "fc0f8d43",
   "metadata": {},
   "outputs": [],
   "source": []
  }
 ],
 "metadata": {
  "kernelspec": {
   "display_name": "Python 3 (ipykernel)",
   "language": "python",
   "name": "python3"
  },
  "language_info": {
   "codemirror_mode": {
    "name": "ipython",
    "version": 3
   },
   "file_extension": ".py",
   "mimetype": "text/x-python",
   "name": "python",
   "nbconvert_exporter": "python",
   "pygments_lexer": "ipython3",
   "version": "3.9.7"
  }
 },
 "nbformat": 4,
 "nbformat_minor": 5
}
