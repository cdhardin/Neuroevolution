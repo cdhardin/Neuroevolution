{
 "cells": [
  {
   "cell_type": "code",
   "execution_count": 12,
   "id": "6e8bc905",
   "metadata": {},
   "outputs": [
    {
     "name": "stdout",
     "output_type": "stream",
     "text": [
      "Overwriting InitializationVariables.py\n"
     ]
    }
   ],
   "source": [
    "%%writefile InitializationVariables.py\n",
    "print('Imported initialized Variables')\n",
    "\n",
    "# X-Y length of environment grid\n",
    "environment_xSize = 300\n",
    "environment_ySize = 300\n",
    "\n",
    "# Wrapping on environment, 1 - on : 0 - off\n",
    "xWrapping = 0 \n",
    "yWrapping = 0\n",
    "\n",
    "agent_count = 1000\n",
    "\n",
    "steps_per_cycle = 30\n",
    "numGenerations = 10\n",
    "plot_freq = 1\n",
    "\n",
    "network_edges = 10\n",
    "\n",
    "mutation_chance = 0.35\n",
    "\n",
    "killing = False\n",
    "\n",
    "pheramoneDecayRate = .5 #How much pheramones decay each step\n",
    "\n",
    "# How much of an effect comes from 1 agent\n",
    "pheramoneScale = 50\n",
    "popScale = 50\n",
    "\n",
    "monogamous = 1 # 1 - each agent reproduce with one random agent x times : 0 - each agent reproduce with x random agent one time\n"
   ]
  },
  {
   "cell_type": "code",
   "execution_count": 27,
   "id": "e6702729",
   "metadata": {},
   "outputs": [
    {
     "ename": "SyntaxError",
     "evalue": "invalid syntax (3653263388.py, line 1)",
     "output_type": "error",
     "traceback": [
      "\u001b[0;36m  File \u001b[0;32m\"/var/folders/s6/vnff962s2xgdxx04rh9bw0wm0000gn/T/ipykernel_6357/3653263388.py\"\u001b[0;36m, line \u001b[0;32m1\u001b[0m\n\u001b[0;31m    Timing:\u001b[0m\n\u001b[0m           ^\u001b[0m\n\u001b[0;31mSyntaxError\u001b[0m\u001b[0;31m:\u001b[0m invalid syntax\n"
     ]
    }
   ],
   "source": [
    "# Timing:\n",
    "#steps_per_cycle, network_edges, time per run\n",
    "timeVals = [\n",
    "    [30, 3, 4.872619318962097],\n",
    "    [45, 3, 6.895232105255127],\n",
    "    [30, 6, 4.760345816612244],\n",
    "    [30, 8, 4.7194555747509],\n",
    "    [10, 8, 1.522728443145752]\n",
    "]"
   ]
  },
  {
   "cell_type": "code",
   "execution_count": 37,
   "id": "266f4954",
   "metadata": {},
   "outputs": [
    {
     "name": "stdout",
     "output_type": "stream",
     "text": [
      "Gene: 98765678936, Genetic Color: 3\n"
     ]
    }
   ],
   "source": [
    "def make_genetic_color(gene):\n",
    "    # Extract source, target, and strength from the gene\n",
    "    source = gene // 10000\n",
    "    target = (gene % 10000) // 100\n",
    "    strength = gene % 100\n",
    "\n",
    "    # Encode properties into a single integer\n",
    "    genetic_color = (\n",
    "        (source % 2)            |    # Bit 0: Parity of source\n",
    "        (target % 2) << 1       |    # Bit 1: Parity of target\n",
    "        (strength % 2) << 2          # Bit 2: Parity of strength\n",
    "    )\n",
    "\n",
    "    return genetic_color\n",
    "\n",
    "# Example usage:\n",
    "gene = 98765678936  # Replace with your actual gene\n",
    "genetic_color = make_genetic_color(gene)\n",
    "print(f\"Gene: {gene}, Genetic Color: {genetic_color}\")\n"
   ]
  }
 ],
 "metadata": {
  "kernelspec": {
   "display_name": "Python 3 (ipykernel)",
   "language": "python",
   "name": "python3"
  },
  "language_info": {
   "codemirror_mode": {
    "name": "ipython",
    "version": 3
   },
   "file_extension": ".py",
   "mimetype": "text/x-python",
   "name": "python",
   "nbconvert_exporter": "python",
   "pygments_lexer": "ipython3",
   "version": "3.9.7"
  }
 },
 "nbformat": 4,
 "nbformat_minor": 5
}
