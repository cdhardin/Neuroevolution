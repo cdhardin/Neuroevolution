{
 "cells": [
  {
   "cell_type": "code",
   "execution_count": 8,
   "id": "c2bbc3eb",
   "metadata": {},
   "outputs": [
    {
     "name": "stdout",
     "output_type": "stream",
     "text": [
      "Overwriting Environment.py\n"
     ]
    }
   ],
   "source": [
    "%%writefile Environment.py\n",
    "print('Imported environ')\n",
    "\n",
    "import numpy as np\n",
    "from InitializationVariables import *\n",
    "from scipy.ndimage import distance_transform_bf\n",
    "\n",
    "\n",
    "\n",
    "#Environment\n",
    "def initialize():\n",
    "    environment = np.full((environment_xSize, environment_ySize, 3), 255)\n",
    "    environment_pop_density = np.zeros((environment_xSize, environment_ySize))\n",
    "    environment_pheramones = np.zeros((environment_xSize, environment_ySize))\n",
    "    agents = []\n",
    "    return environment, agents, environment_pop_density, environment_pheramones\n",
    "\n",
    "def getBarrierMask():\n",
    "    barrierMask = np.zeros((environment_xSize, environment_ySize))\n",
    "#     Small Block center low : \n",
    "    barrierMask[1 * environment_xSize//5 : 2 * environment_xSize//5, environment_ySize//3 : 2 * environment_ySize//3]= 1\n",
    "    barrierMask[environment_ySize//3 : 2 * environment_ySize//3, 1 * environment_xSize//5 : 2 * environment_xSize//5]= 1\n",
    "    \n",
    "    return barrierMask\n",
    "\n",
    "def getBarrierMaskDist(barrierMask):\n",
    "    distance_transform = distance_transform_bf(barrierMask)\n",
    "    return distance_transform\n",
    "\n",
    "def getSurvivalMask():\n",
    "    survivalMask = np.zeros((environment_xSize, environment_ySize))\n",
    "#     survivalMask[:, 3 * environment_ySize//4 : ]= 1\n",
    "    survivalMask[: 1 * environment_ySize//3, : 1 * environment_ySize//3 ]= 1\n",
    "#     survivalMask[: 1 * environment_ySize//4:, 3 * environment_ySize//4 : ]= 1\n",
    "#     survivalMask[ 3 * environment_ySize//4:, :1 * environment_ySize//4 ]= 1\n",
    "#     survivalMask[ 3 * environment_ySize//4:, 3 * environment_ySize//4 : ]= 1\n",
    "\n",
    "#     survivalMask[ 1 * environment_ySize//4: 3 * environment_ySize//4, 1 * environment_ySize//4: 3 * environment_ySize//4 ]= 1\n",
    "\n",
    "    \n",
    "\n",
    "    return survivalMask\n",
    "\n",
    "def getEmptyBarrierMask():\n",
    "    barrierMask = np.zeros((environment_xSize, environment_ySize))\n",
    "    return barrierMask\n",
    "\n",
    "    \n",
    "def resetEnv(environment):\n",
    "    environment = np.full((environment_xSize, environment_ySize, 3), 255)\n",
    "    return environment\n",
    "\n",
    "def getPopDensity(environment_pop_density, agents):\n",
    "    environment_pop_density = np.zeros((environment_xSize, environment_ySize))\n",
    "    for agent in agents:\n",
    "        x = agent.xCoord\n",
    "        y = agent.yCoord\n",
    "        environment_pop_density[x, y] = environment_pop_density[x, y] + 1  # Note: (y, x) to match NumPy array indexing\n",
    "    return environment_pop_density\n",
    "\n",
    "def getPheramones(environment_pheramones, agents):\n",
    "    environment_pheramones = environment_pheramones * pheramoneDecayRate\n",
    "    for agent in agents:\n",
    "        x = agent.xCoord\n",
    "        y = agent.yCoord\n",
    "        environment_pheramones[x, y] = environment_pheramones[x, y] + 1  # Note: (y, x) to match NumPy array indexing\n",
    "    return environment_pheramones\n",
    "\n",
    "    \n"
   ]
  },
  {
   "cell_type": "code",
   "execution_count": null,
   "id": "077a5194",
   "metadata": {},
   "outputs": [],
   "source": []
  }
 ],
 "metadata": {
  "kernelspec": {
   "display_name": "Python 3 (ipykernel)",
   "language": "python",
   "name": "python3"
  },
  "language_info": {
   "codemirror_mode": {
    "name": "ipython",
    "version": 3
   },
   "file_extension": ".py",
   "mimetype": "text/x-python",
   "name": "python",
   "nbconvert_exporter": "python",
   "pygments_lexer": "ipython3",
   "version": "3.9.7"
  }
 },
 "nbformat": 4,
 "nbformat_minor": 5
}
