{
 "cells": [
  {
   "cell_type": "code",
   "execution_count": 13,
   "id": "a990f463",
   "metadata": {},
   "outputs": [
    {
     "name": "stdout",
     "output_type": "stream",
     "text": [
      "Overwriting Observation.py\n"
     ]
    }
   ],
   "source": [
    "%%writefile Observation.py\n",
    "\n",
    "\n",
    "print('imported Observation')\n",
    "#Observe\n",
    "\n",
    "from InitializationVariables import *\n",
    "from NeuralNetwork import activationNodeCount, sensorNodeCount\n",
    "\n",
    "import matplotlib.pyplot as plt\n",
    "from matplotlib.colors import ListedColormap\n",
    "import matplotlib.cm as cm\n",
    "import numpy as np\n",
    "import networkx as nx\n",
    "\n",
    "\n",
    "barrier_cmap = ListedColormap(['none', 'darkgray'])\n",
    "alive_cmap = ListedColormap(['none', 'green'])\n",
    "\n",
    "\n",
    "    \n",
    "    \n",
    "def observe(environment, observed_Agents, barrierMask, survivalMask, colorScale):\n",
    "    for agent in observed_Agents:\n",
    "        x = agent.xCoord\n",
    "        y = agent.yCoord\n",
    "        color = [tempColor * (255/(2*colorScale)) + 255/2 for tempColor in agent.color]\n",
    "        environment[x, y] = color   # Note: (y, x) to match NumPy array indexing\n",
    "    # Plot the grid with agents\n",
    "    plt.imshow(environment, interpolation='none')\n",
    "    plt.imshow(barrierMask, cmap=barrier_cmap, alpha=0.8, interpolation='none')\n",
    "    plt.imshow(survivalMask, cmap=alive_cmap, alpha=0.2, interpolation='none')\n",
    "\n",
    "    # Add grid lines for better visualization\n",
    "#     plt.grid(True, which='both', color='black', linewidth=0.5)\n",
    "    plt.show()\n",
    "    \n",
    "    \n",
    "def getAgentAnalysis(agents):\n",
    "    sensorbuckets = np.zeros(sensorNodeCount)\n",
    "    activebuckets = np.zeros(activationNodeCount)\n",
    "    weightbuckets = np.zeros(100)\n",
    "\n",
    "    for agent in agents:\n",
    "        for edge in agent.agentBrain.network:\n",
    "            sensorbuckets[int(edge[0])-1] = sensorbuckets[int(edge[0])-1] + 1 \n",
    "            activebuckets[int(edge[1])-1] = activebuckets[int(edge[1])-1] + 1 \n",
    "            weightbuckets[int(edge[2])] = int(weightbuckets[int(edge[2])] + 1 )\n",
    "    return sensorbuckets, activebuckets, weightbuckets\n",
    "\n",
    "def printBucketAnalysis(sensorbuckets, activebuckets, weightbuckets):\n",
    "    for i in range(len(activebuckets)):\n",
    "        print(f'{activeBucketTypes[i]} has {activebuckets[i]}')\n",
    "\n",
    "    print( ' - - - - - - - - ')\n",
    "    for i in range(len(sensorbuckets)):\n",
    "        print(f'{sensorTypes[i]} has {sensorbuckets[i]}')\n",
    "        \n",
    "activeBucketTypes = [\n",
    "    'No Movement',\n",
    "    'Move East',\n",
    "    'Move North',\n",
    "    'Move NorthEast',\n",
    "    'Move West',\n",
    "    'Move South',\n",
    "    'Move SouthWest',\n",
    "    'Move NorthWest',\n",
    "    'Move SouthEast',\n",
    "    'forward',\n",
    "    'backwards',\n",
    "    'turnCC',\n",
    "    'turnC',\n",
    "    'kill'\n",
    "]\n",
    "\n",
    "sensorTypes = [\n",
    "    'getLoc_X',\n",
    "    'getLoc_Y',\n",
    "    'getBoundary_Dist_x',\n",
    "    'getBoundary_Dist',\n",
    "    'getBoundary_Dist_y',\n",
    "    'getYouth',\n",
    "    'getLast_Move_X',\n",
    "    'getLast_Move_Y',\n",
    "    'getPopulationForward',\n",
    "    'getBarrierForward',\n",
    "    'getPopulationDensity',\n",
    "    'getPopulationGradient_xDirection',\n",
    "    'getPopulationGradient_yDirection',\n",
    "    'getOscilatorVal',\n",
    "    'getAge',\n",
    "    'getBarrierDistForward',\n",
    "    'getFacingX',\n",
    "    'getFacingY',\n",
    "    'getRandom',\n",
    "    'getPheramones',\n",
    "    'getPheramonesForward',\n",
    "    'getDistToBarrier'\n",
    "]\n",
    "\n",
    "def plotNeuralNetwork(agent):\n",
    "    # Create a bipartite graph\n",
    "    G = nx.Graph()\n",
    "\n",
    "    # Add sensor and action nodes with bipartite attribute\n",
    "    G.add_nodes_from(activeBucketTypes, bipartite=0, node_type='action')\n",
    "    G.add_nodes_from(sensorTypes, bipartite=1, node_type='sensor')\n",
    "\n",
    "    for edge in agent.agentBrain.network:\n",
    "        sensor, action, strength = edge\n",
    "        G.add_edge(sensorTypes[int(sensor)], activeBucketTypes[int(action)], weight=strength)\n",
    "\n",
    "    # Separate nodes by bipartite set\n",
    "    sensor_nodes = {node for node, data in G.nodes(data=True) if data['bipartite'] == 1}\n",
    "    action_nodes = set(G) - sensor_nodes\n",
    "\n",
    "    fig, ax = plt.subplots(figsize=(10, 20))\n",
    "\n",
    "    # Customize edge thickness and color based on weights\n",
    "    edges = G.edges(data=True)\n",
    "    weights = [data['weight'] for _, _, data in edges]\n",
    "    edge_colors = plt.cm.RdYlGn([(weight) / 100 for weight in weights])\n",
    "\n",
    "    # Draw the bipartite graph with customized edge attributes\n",
    "    pos = nx.bipartite_layout(G, sensor_nodes)\n",
    "    nx.draw(G, pos, with_labels=True, font_weight='bold', node_color='skyblue',\n",
    "            font_color='black', font_size=10, node_size=800,\n",
    "            width=3, edge_color=edge_colors, edge_cmap=plt.cm.RdYlGn)\n",
    "\n",
    "    # Display the plot\n",
    "    plt.show()"
   ]
  },
  {
   "cell_type": "code",
   "execution_count": 6,
   "id": "2272284c",
   "metadata": {},
   "outputs": [],
   "source": [
    "\n",
    "weights = [0, 10,50, 80, 100]\n",
    "edge_colors = plt.cm.RdYlGn([(weight) / 100 for weight in weights])\n"
   ]
  },
  {
   "cell_type": "code",
   "execution_count": 7,
   "id": "fd836152",
   "metadata": {},
   "outputs": [
    {
     "data": {
      "text/plain": [
       "array([[0.64705882, 0.        , 0.14901961, 1.        ],\n",
       "       [0.83929258, 0.18454441, 0.15286428, 1.        ],\n",
       "       [0.99707805, 0.9987697 , 0.74502115, 1.        ],\n",
       "       [0.4       , 0.74117647, 0.38823529, 1.        ],\n",
       "       [0.        , 0.40784314, 0.21568627, 1.        ]])"
      ]
     },
     "execution_count": 7,
     "metadata": {},
     "output_type": "execute_result"
    }
   ],
   "source": [
    "edge_colors"
   ]
  },
  {
   "cell_type": "code",
   "execution_count": 8,
   "id": "7f4875cd",
   "metadata": {},
   "outputs": [
    {
     "data": {
      "image/png": "[encoded data removed]",
      "text/plain": [
       "<Figure size 432x288 with 5 Axes>"
      ]
     },
     "metadata": {},
     "output_type": "display_data"
    }
   ],
   "source": [
    "for i, color in enumerate(edge_colors):\n",
    "    plt.subplot(1, len(edge_colors), i + 1)\n",
    "    plt.imshow([[color]], extent=[0, 1, 0, 1])\n",
    "    plt.xticks([])\n",
    "    plt.yticks([])"
   ]
  },
  {
   "cell_type": "code",
   "execution_count": null,
   "id": "6ab9b315",
   "metadata": {},
   "outputs": [],
   "source": []
  }
 ],
 "metadata": {
  "kernelspec": {
   "display_name": "Python 3 (ipykernel)",
   "language": "python",
   "name": "python3"
  },
  "language_info": {
   "codemirror_mode": {
    "name": "ipython",
    "version": 3
   },
   "file_extension": ".py",
   "mimetype": "text/x-python",
   "name": "python",
   "nbconvert_exporter": "python",
   "pygments_lexer": "ipython3",
   "version": "3.9.7"
  }
 },
 "nbformat": 4,
 "nbformat_minor": 5
}
