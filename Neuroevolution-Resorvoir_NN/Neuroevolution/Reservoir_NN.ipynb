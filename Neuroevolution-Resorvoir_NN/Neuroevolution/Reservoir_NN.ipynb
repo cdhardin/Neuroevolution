{
 "cells": [
  {
   "cell_type": "code",
   "execution_count": 6,
   "id": "6cec0a13-9053-438e-9f5f-b9e10e1523bd",
   "metadata": {},
   "outputs": [
    {
     "name": "stdout",
     "output_type": "stream",
     "text": [
      "Overwriting NeuralNetwork.py\n"
     ]
    }
   ],
   "source": [
    "%%writefile NeuralNetwork.py\n",
    "print('imported Neural Network module')\n",
    "import numpy as np\n",
    "from numpy.linalg import eigvals\n",
    "\n",
    "import random \n",
    "from InitializationVariables import *\n",
    "from NodeFunctions import *\n",
    "\n",
    "activationNodeCount = 14\n",
    "sensorNodeCount = 22  \n",
    "\n",
    "\n",
    "\n",
    "\n",
    "def getANetwork(D_r):\n",
    "    return generate_random_adjacency_matrix(D_r, 4, .8)\n",
    "\n",
    "def generate_random_adjacency_matrix(N, avg_degree, spectral_radius):\n",
    "    # Initialize adjacency matrix\n",
    "    A = np.zeros((N, N))\n",
    "    \n",
    "    # Generate random edges to achieve the desired average degree\n",
    "    num_edges = int(N * avg_degree/2)  # Undirected graph, so divide by 2\n",
    "    edges = np.random.choice(N, size=(num_edges, 2), replace=True)\n",
    "    \n",
    "    # Generate random weights from a normal distribution centered around the spectral radius\n",
    "    weights = np.random.normal(loc=1, scale=0.3, size=num_edges)\n",
    "    weights = np.ones(num_edges)\n",
    "\n",
    "    inhibitorProb = .2\n",
    "    \n",
    "    for idx in range(len(weights)):\n",
    "        if random.random() < inhibitorProb:\n",
    "            weights[idx] = -1\n",
    "    \n",
    "    # Populate the adjacency matrix with the generated edges and weights\n",
    "    for idx, (i, j) in enumerate(edges):\n",
    "        if i != j:  # Avoid self-loops\n",
    "            A[i, j] +=weights[idx]\n",
    "            A[j, i] +=weights[idx]  # Undirected graph\n",
    "\n",
    "    current_radius = max(abs(eigvals(A)))\n",
    "    A *= spectral_radius / current_radius\n",
    "            \n",
    "    return A\n",
    "\n",
    "def addMoves(move1, move2):\n",
    "    move = [0, 0, 0]\n",
    "    move[0] = move1[0] + move2[0]\n",
    "    move[1] = move1[1] + move2[1]\n",
    "    move[2] = move1[2] + move2[2]\n",
    "    return move\n",
    "\n",
    "def getWin(D_r):\n",
    "    N = sensorNodeCount\n",
    "    M = D_r\n",
    "    p = .2\n",
    "    np.random.seed(41544)\n",
    "    return np.random.choice([0, 1], size=(N, M), p=[1-p, p])\n",
    "\n",
    "\n",
    "\n",
    "def shouldFire(arr):\n",
    "    sigmoid = np.tanh(arr)\n",
    "    random_array = np.random.rand(*arr.shape)\n",
    "    fire = random_array<sigmoid\n",
    "    \n",
    "    return fire\n",
    "\n",
    "\n",
    "def getAction(thought, facing):\n",
    "\n",
    "    fireNodes = shouldFire(thought)\n",
    "    \n",
    "    \n",
    "    movement = [0, 0, 0]\n",
    "\n",
    "    # print(f' Firing nodes: {fireNodes}')\n",
    "    \n",
    "    movement = addMoves(movement, function0(fireNodes[0]))\n",
    "    movement = addMoves(movement, function1(fireNodes[1]))\n",
    "    movement = addMoves(movement, function2(fireNodes[2]))\n",
    "    movement = addMoves(movement, function3(fireNodes[3]))\n",
    "    movement = addMoves(movement, function4(fireNodes[4]))\n",
    "    movement = addMoves(movement, function5(fireNodes[5]))\n",
    "    movement = addMoves(movement, function6(fireNodes[6]))\n",
    "    movement = addMoves(movement, function7(fireNodes[7]))\n",
    "    movement = addMoves(movement, function8(fireNodes[8]))\n",
    "    \n",
    "    movement = addMoves(movement, function9(fireNodes[9], facing))\n",
    "    movement = addMoves(movement, function10(fireNodes[10], facing))\n",
    "    movement = addMoves(movement, function11(fireNodes[11], facing))\n",
    "    movement = addMoves(movement, function12(fireNodes[12], facing))\n",
    "    killForward = functionKill(fireNodes[13], killing)\n",
    "\n",
    "\n",
    "    \n",
    "    return movement, killForward, fireNodes\n",
    "\n",
    "\n",
    "    \n",
    "    \n",
    "class NeuralNetwork:\n",
    "    \n",
    "\n",
    "    # W_in_network = []\n",
    "    # A_network = []\n",
    "    pVals = []\n",
    "\n",
    "    age = 0\n",
    "    facing = 0\n",
    "    lastMove = [0, 0 ,0]\n",
    "\n",
    "\n",
    "    sensorVals = []\n",
    "\n",
    "    \n",
    "    def think(self, facing, xCoord, yCoord, environment_pop_density, environment_pheramones, barrierMask, distToBarrier, killing):\n",
    "        self.sense(facing, xCoord, yCoord, environment_pop_density, environment_pheramones, barrierMask, distToBarrier)\n",
    "\n",
    "        thought = self.applyMtx()\n",
    "        thought = thought - 1.5\n",
    "        \n",
    "        movement, killForward,fireNodes = getAction(thought, self.facing)\n",
    "\n",
    "        if killing:\n",
    "            print(f'{sum(fireNodes)}')\n",
    "            \n",
    "        return movement, killForward\n",
    "\n",
    "\n",
    "    \n",
    "    \n",
    "    def sense(self, facing, xCoord, yCoord, environment_pop_density, environment_pheramones, barrierMask, distToBarrier): \n",
    "        self.age = self.age + 1\n",
    "        sensorVals = [\n",
    "            getLoc_X(xCoord),\n",
    "            getLoc_Y(yCoord),\n",
    "            getBoundary_Dist_x(xCoord),\n",
    "            getBoundary_Dist(xCoord, yCoord),\n",
    "            getBoundary_Dist_y(yCoord),\n",
    "#             getGenetic_similarity_forward(facing),\n",
    "            getYouth(self.age),\n",
    "            getLast_Move_X(self.lastMove),\n",
    "            getLast_Move_Y(self.lastMove),\n",
    "            getPopulationForward(environment_pop_density, facing, xCoord, yCoord),\n",
    "            getBoundaryDistForward(facing, xCoord, yCoord),\n",
    "            getPopulationDensity(environment_pop_density, xCoord, yCoord),\n",
    "            getPopulationGradient_xDirection(environment_pop_density, xCoord, yCoord),\n",
    "            getPopulationGradient_yDirection(environment_pop_density, xCoord, yCoord),\n",
    "            getOscilatorVal(self.age),\n",
    "            getAge(self.age),\n",
    "            getBarrierForward(barrierMask, facing, xCoord, yCoord),\n",
    "            getFacingX(facing),\n",
    "            getFacingY(facing),\n",
    "            getRandom(),\n",
    "            getPheramones(environment_pheramones, xCoord, yCoord),\n",
    "            getPheramonesForward(environment_pheramones, facing, xCoord, yCoord),\n",
    "            getBarrierClosest(xCoord, yCoord, distToBarrier)\n",
    "        ]\n",
    "        self.sensorVals = sensorVals\n",
    "\n",
    "\n",
    "    def applyMtx(self):\n",
    "        self.sensorVals = np.random.rand(sensorNodeCount)\n",
    "        \n",
    "        # input = np.matmul(self.sensorVals, self.W_in_network)\n",
    "        # idea = np.matmul(input, self.A_network)\n",
    "\n",
    "        idea = np.matmul(self.sensorVals, W_A_Matmul)\n",
    "\n",
    "        \n",
    "        # print(f'pvals shape {self.pVals.shape}')\n",
    "        # print(f'idea shape {idea.shape}')\n",
    "        output = np.matmul(idea, self.pVals)\n",
    "        return output\n",
    "        \n",
    "        \n",
    "                     \n",
    "    \n",
    "    \n",
    "    \n",
    "    def __init__(self, gene):\n",
    "        # self.W_in_network = W_In\n",
    "        # self.A_network = A_network\n",
    "        self.pVals = gene\n",
    "        \n",
    "        \n",
    "\n",
    "W_In = getWin(D_r)\n",
    "A_network = getANetwork(D_r)\n",
    "\n",
    "W_A_Matmul = np.matmul(W_In, A_network)\n",
    "    "
   ]
  },
  {
   "cell_type": "code",
   "execution_count": null,
   "id": "2ec14a10-23c6-4f36-9df7-9b9758cc6a4e",
   "metadata": {},
   "outputs": [],
   "source": []
  },
  {
   "cell_type": "code",
   "execution_count": 23,
   "id": "5e1ad22c-72a3-474c-ba3d-1e9198c33d97",
   "metadata": {},
   "outputs": [],
   "source": [
    "def getStartGene():\n",
    "    N = D_r\n",
    "    M = activationNodeCount\n",
    "\n",
    "    matrix = np.random.rand(N, M)\n",
    "    \n",
    "    # Normalize each Row so that its elements sum to 1\n",
    "    matrix /= matrix.sum(axis=1, keepdims=True)\n",
    "    return matrix"
   ]
  },
  {
   "cell_type": "code",
   "execution_count": 24,
   "id": "7282b8c2-9977-4f51-b6d6-60c68900c201",
   "metadata": {},
   "outputs": [],
   "source": [
    "gene1 = getStartGene()"
   ]
  },
  {
   "cell_type": "code",
   "execution_count": 5,
   "id": "c9c21e4e-ab42-407e-9ff2-bbc80e254f25",
   "metadata": {},
   "outputs": [],
   "source": [
    "nn = NeuralNetwork(gene1)"
   ]
  },
  {
   "cell_type": "markdown",
   "id": "924f18a0-1af2-422e-b4f7-e5364c626d2c",
   "metadata": {},
   "source": [
    "gene = 0\n",
    "\n",
    "W_in_network = []\n",
    "A_network = []\n",
    "idea = []\n",
    "pVals = []\n",
    "\n",
    "\n",
    "sensorVals = []"
   ]
  },
  {
   "cell_type": "code",
   "execution_count": 6,
   "id": "7fd7e02b-8da2-4a30-87fc-9c3b3d7937ac",
   "metadata": {},
   "outputs": [],
   "source": [
    "thought = nn.applyMtx()"
   ]
  },
  {
   "cell_type": "code",
   "execution_count": 7,
   "id": "f9ccbdb2-2795-4645-bb4a-cad941538495",
   "metadata": {},
   "outputs": [],
   "source": [
    "go = np.tanh(thought)\n",
    "random_array = np.random.rand(*thought.shape)\n",
    "\n",
    "fire = random_array<go"
   ]
  },
  {
   "cell_type": "code",
   "execution_count": 8,
   "id": "2f8831c8-12e7-43f2-a639-1bf6ca3d8b82",
   "metadata": {},
   "outputs": [
    {
     "data": {
      "text/plain": [
       "([0, 1, -1],\n",
       " False,\n",
       " array([ True,  True, False,  True,  True,  True, False,  True,  True,\n",
       "         True,  True, False,  True,  True]))"
      ]
     },
     "execution_count": 8,
     "metadata": {},
     "output_type": "execute_result"
    }
   ],
   "source": [
    "getAction(fire, 2)"
   ]
  },
  {
   "cell_type": "code",
   "execution_count": 11,
   "id": "7c9179a6-df6e-42ba-8fd3-0cc4cd2b6f64",
   "metadata": {},
   "outputs": [
    {
     "data": {
      "text/plain": [
       "array([[0.        , 0.        , 0.        , 0.        , 0.        ,\n",
       "        0.        , 0.        , 0.        , 0.        , 0.        ],\n",
       "       [0.        , 0.        , 0.        , 0.        , 0.        ,\n",
       "        0.        , 0.22354831, 0.        , 0.        , 0.        ],\n",
       "       [0.        , 0.        , 0.        , 0.        , 0.22354831,\n",
       "        0.        , 0.        , 0.        , 0.        , 0.44709663],\n",
       "       [0.        , 0.        , 0.        , 0.        , 0.44709663,\n",
       "        0.44709663, 0.22354831, 0.44709663, 0.        , 0.        ],\n",
       "       [0.        , 0.        , 0.22354831, 0.44709663, 0.        ,\n",
       "        0.        , 0.        , 0.22354831, 0.        , 0.22354831],\n",
       "       [0.        , 0.        , 0.        , 0.44709663, 0.        ,\n",
       "        0.        , 0.        , 0.22354831, 0.        , 0.        ],\n",
       "       [0.        , 0.22354831, 0.        , 0.22354831, 0.        ,\n",
       "        0.        , 0.        , 0.        , 0.        , 0.        ],\n",
       "       [0.        , 0.        , 0.        , 0.44709663, 0.22354831,\n",
       "        0.22354831, 0.        , 0.        , 0.        , 0.        ],\n",
       "       [0.        , 0.        , 0.        , 0.        , 0.        ,\n",
       "        0.        , 0.        , 0.        , 0.        , 0.        ],\n",
       "       [0.        , 0.        , 0.44709663, 0.        , 0.22354831,\n",
       "        0.        , 0.        , 0.        , 0.        , 0.        ]])"
      ]
     },
     "execution_count": 11,
     "metadata": {},
     "output_type": "execute_result"
    }
   ],
   "source": [
    "generate_random_adjacency_matrix(10, 3, 1)\n",
    "    "
   ]
  },
  {
   "cell_type": "code",
   "execution_count": 12,
   "id": "b02a8ab0-6770-4a7f-a699-dd881f3121e8",
   "metadata": {},
   "outputs": [
    {
     "data": {
      "text/plain": [
       "0.6954674622293305"
      ]
     },
     "execution_count": 12,
     "metadata": {},
     "output_type": "execute_result"
    }
   ],
   "source": [
    "row_sums = np.sum(generate_random_adjacency_matrix(5, 3, 1), axis=1)\n",
    "\n",
    "np.mean(row_sums)"
   ]
  },
  {
   "cell_type": "code",
   "execution_count": 13,
   "id": "5aa6d3b7-5883-4d64-a565-472f4e9aff45",
   "metadata": {},
   "outputs": [],
   "source": [
    "a = np.array([1,3,0,0,0,1])"
   ]
  },
  {
   "cell_type": "code",
   "execution_count": 14,
   "id": "380b8a1a-0704-4c4e-8f39-e146c12568b8",
   "metadata": {},
   "outputs": [
    {
     "data": {
      "text/plain": [
       "array([ 0.5,  2.5, -0.5, -0.5, -0.5,  0.5])"
      ]
     },
     "execution_count": 14,
     "metadata": {},
     "output_type": "execute_result"
    }
   ],
   "source": [
    "a-.5"
   ]
  },
  {
   "cell_type": "code",
   "execution_count": 26,
   "id": "dd40a53c-8853-472f-b792-14d0af95d59a",
   "metadata": {},
   "outputs": [
    {
     "data": {
      "text/plain": [
       "array([[0.08728288, 0.13125765, 0.06479491, 0.14661581, 0.05313724,\n",
       "        0.00915508, 0.05228094, 0.09187529, 0.12627819, 0.0304562 ],\n",
       "       [0.09268235, 0.10536022, 0.11109632, 0.00439719, 0.06721675,\n",
       "        0.09499961, 0.11387551, 0.07155698, 0.14693627, 0.12197629],\n",
       "       [0.07230341, 0.03475811, 0.01914879, 0.08175738, 0.10306191,\n",
       "        0.06945736, 0.05178177, 0.01533049, 0.05471   , 0.02453939],\n",
       "       [0.12265959, 0.00689958, 0.10268143, 0.08740112, 0.06928212,\n",
       "        0.06018746, 0.11501883, 0.10973553, 0.10819768, 0.09618899],\n",
       "       [0.05547546, 0.00858275, 0.0927849 , 0.07398577, 0.08010209,\n",
       "        0.00582216, 0.10552795, 0.00184208, 0.07492454, 0.10713017],\n",
       "       [0.02474275, 0.07077355, 0.00488222, 0.13284228, 0.02426715,\n",
       "        0.13457375, 0.12648015, 0.12580787, 0.030205  , 0.07756967],\n",
       "       [0.11050394, 0.06299572, 0.09972981, 0.06320679, 0.13538266,\n",
       "        0.08599282, 0.02557066, 0.15126969, 0.06850621, 0.02386549],\n",
       "       [0.03785605, 0.00976454, 0.03406379, 0.05711835, 0.14755232,\n",
       "        0.01987625, 0.04233159, 0.11881214, 0.02406987, 0.10960609],\n",
       "       [0.02786167, 0.05820991, 0.09376177, 0.02591296, 0.01903033,\n",
       "        0.00511671, 0.0147592 , 0.00326572, 0.14223513, 0.08556612],\n",
       "       [0.11986678, 0.13242839, 0.08463609, 0.13002691, 0.01309559,\n",
       "        0.13346723, 0.10249244, 0.02744923, 0.00243475, 0.10685278],\n",
       "       [0.00781282, 0.06645835, 0.10657384, 0.01301521, 0.0450891 ,\n",
       "        0.10575984, 0.0115728 , 0.04186556, 0.01239502, 0.09452434],\n",
       "       [0.05754869, 0.0407588 , 0.12748899, 0.14422967, 0.06412628,\n",
       "        0.12780259, 0.04252804, 0.08123516, 0.08008508, 0.0221414 ],\n",
       "       [0.1047984 , 0.0903611 , 0.05197016, 0.01168971, 0.05858391,\n",
       "        0.01930696, 0.09842609, 0.13838081, 0.0406894 , 0.03527415],\n",
       "       [0.07860519, 0.18139132, 0.00638698, 0.02780084, 0.12007255,\n",
       "        0.12848217, 0.09735403, 0.02157345, 0.08833288, 0.06430891]])"
      ]
     },
     "execution_count": 26,
     "metadata": {},
     "output_type": "execute_result"
    }
   ],
   "source": [
    "gene1.T"
   ]
  },
  {
   "cell_type": "code",
   "execution_count": 33,
   "id": "b64944e1-a202-4140-b3ad-e7d597a58173",
   "metadata": {},
   "outputs": [
    {
     "name": "stdout",
     "output_type": "stream",
     "text": [
      "2\n"
     ]
    }
   ],
   "source": [
    "a = [True, False, True]\n",
    "print(sum(a))"
   ]
  },
  {
   "cell_type": "code",
   "execution_count": 44,
   "id": "578e966b-616b-4f25-ae3d-197d96ff2864",
   "metadata": {},
   "outputs": [],
   "source": [
    "def shouldFire(arr):\n",
    "    sigmoid = np.tanh(arr)\n",
    "    random_array = np.random.rand(*arr.shape)\n",
    "    fire = random_array<sigmoid\n",
    "    \n",
    "    return fire"
   ]
  },
  {
   "cell_type": "code",
   "execution_count": 57,
   "id": "bd5122fa-5c48-4b48-817c-d4e0be7e68be",
   "metadata": {},
   "outputs": [
    {
     "data": {
      "text/plain": [
       "array([ 1.        ,  0.89473684,  0.78947368,  0.68421053,  0.57894737,\n",
       "        0.47368421,  0.36842105,  0.26315789,  0.15789474,  0.05263158,\n",
       "       -0.05263158, -0.15789474, -0.26315789, -0.36842105, -0.47368421,\n",
       "       -0.57894737, -0.68421053, -0.78947368, -0.89473684, -1.        ])"
      ]
     },
     "execution_count": 57,
     "metadata": {},
     "output_type": "execute_result"
    }
   ],
   "source": [
    "a = np.linspace(2,0,20) -1\n",
    "a"
   ]
  },
  {
   "cell_type": "code",
   "execution_count": 58,
   "id": "ba6e2840-064c-4809-9104-a09ae38fb34a",
   "metadata": {},
   "outputs": [
    {
     "data": {
      "text/plain": [
       "array([ True, False, False, False,  True, False,  True, False, False,\n",
       "       False, False, False, False, False, False, False, False, False,\n",
       "       False, False])"
      ]
     },
     "execution_count": 58,
     "metadata": {},
     "output_type": "execute_result"
    }
   ],
   "source": [
    "shouldFire(a)"
   ]
  },
  {
   "cell_type": "code",
   "execution_count": null,
   "id": "4bb0bda1-5129-4e1e-a0ee-340d8328e5a9",
   "metadata": {},
   "outputs": [],
   "source": []
  }
 ],
 "metadata": {
  "kernelspec": {
   "display_name": "Python 3 (ipykernel)",
   "language": "python",
   "name": "python3"
  },
  "language_info": {
   "codemirror_mode": {
    "name": "ipython",
    "version": 3
   },
   "file_extension": ".py",
   "mimetype": "text/x-python",
   "name": "python",
   "nbconvert_exporter": "python",
   "pygments_lexer": "ipython3",
   "version": "3.11.7"
  }
 },
 "nbformat": 4,
 "nbformat_minor": 5
}
