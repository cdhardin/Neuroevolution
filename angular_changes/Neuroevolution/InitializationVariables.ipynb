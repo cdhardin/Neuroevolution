{
 "cells": [
  {
   "cell_type": "code",
   "execution_count": 58,
   "id": "6e8bc905",
   "metadata": {},
   "outputs": [
    {
     "name": "stdout",
     "output_type": "stream",
     "text": [
      "Overwriting InitializationVariables.py\n"
     ]
    }
   ],
   "source": [
    "%%writefile InitializationVariables.py\n",
    "print('Imported initialized Variables')\n",
    "from numpy import pi\n",
    "\n",
    "# X-Y length of environment grid\n",
    "environment_xSize = 400\n",
    "environment_ySize = 400\n",
    "\n",
    "# Wrapping on environment, 1 - on : 0 - off\n",
    "xWrapping = 0 \n",
    "yWrapping = 0\n",
    "\n",
    "agent_count = 10\n",
    "\n",
    "steps_per_cycle = 100\n",
    "numGenerations = 400\n",
    "plot_freq = 1\n",
    "\n",
    "network_edges = 10\n",
    "D_r = 120\n",
    "\n",
    "agent_radius = 4\n",
    "vision_distance = environment_xSize\n",
    "\n",
    "#For Rays:\n",
    "angleMax = pi/4\n",
    "numRays = 7\n",
    "showRays = False\n",
    "\n",
    "maxVelocity = 4\n",
    "maxAngularVelocity = pi/6\n",
    "\n",
    "collisionKillsBoth = False\n",
    "\n",
    "mutation_chance = 0.1\n",
    "\n",
    "killing = False\n",
    "collisionsKill = False\n",
    "\n",
    "pheramoneDecayRate = .5 #How much pheramones decay each step\n",
    "\n",
    "# How much of an effect comes from 1 agent\n",
    "pheramoneScale = 50\n",
    "popScale = 50\n",
    "\n",
    "monogamous = 0 # 1 - each agent reproduce with one random agent x times : 0 - each agent reproduce with x random agents one time\n"
   ]
  },
  {
   "cell_type": "code",
   "execution_count": 27,
   "id": "e6702729",
   "metadata": {},
   "outputs": [
    {
     "ename": "SyntaxError",
     "evalue": "invalid syntax (3653263388.py, line 1)",
     "output_type": "error",
     "traceback": [
      "\u001b[0;36m  File \u001b[0;32m\"/var/folders/s6/vnff962s2xgdxx04rh9bw0wm0000gn/T/ipykernel_6357/3653263388.py\"\u001b[0;36m, line \u001b[0;32m1\u001b[0m\n\u001b[0;31m    Timing:\u001b[0m\n\u001b[0m           ^\u001b[0m\n\u001b[0;31mSyntaxError\u001b[0m\u001b[0;31m:\u001b[0m invalid syntax\n"
     ]
    }
   ],
   "source": [
    "# Timing:\n",
    "#steps_per_cycle, network_edges, time per run\n",
    "timeVals = [\n",
    "    [30, 3, 4.872619318962097],\n",
    "    [45, 3, 6.895232105255127],\n",
    "    [30, 6, 4.760345816612244],\n",
    "    [30, 8, 4.7194555747509],\n",
    "    [10, 8, 1.522728443145752]\n",
    "]"
   ]
  },
  {
   "cell_type": "code",
   "execution_count": 45,
   "id": "266f4954",
   "metadata": {},
   "outputs": [],
   "source": [
    "a= [0.0775, 0.75, 0.9225, 0.25, 0.7431448254773942, 0.03333333333333333, 0.6346033803087056, 0.0, 0.0, 0.5, 0.22, 0.4825, 0.1225, 0.42, 0.0, 0.2825, 0.54, 0.0, 0.0625, 0.0, 0.0875, 0.0, 0.0925, 0.0]\n",
    "b= [0.23771328, 0.13711317, 0.12900572, 0.08960386 ,0.10649025, 0.18267788, 0.11739584]\n"
   ]
  },
  {
   "cell_type": "code",
   "execution_count": 53,
   "id": "41e7df6e-035c-4a68-9e98-f97ece496ced",
   "metadata": {},
   "outputs": [
    {
     "data": {
      "text/plain": [
       "7"
      ]
     },
     "execution_count": 53,
     "metadata": {},
     "output_type": "execute_result"
    }
   ],
   "source": [
    "len(b)"
   ]
  },
  {
   "cell_type": "code",
   "execution_count": null,
   "id": "4e3da1ca-fdcb-46b3-98fb-1f1f7c813aab",
   "metadata": {},
   "outputs": [],
   "source": []
  }
 ],
 "metadata": {
  "kernelspec": {
   "display_name": "Python 3 (ipykernel)",
   "language": "python",
   "name": "python3"
  },
  "language_info": {
   "codemirror_mode": {
    "name": "ipython",
    "version": 3
   },
   "file_extension": ".py",
   "mimetype": "text/x-python",
   "name": "python",
   "nbconvert_exporter": "python",
   "pygments_lexer": "ipython3",
   "version": "3.11.7"
  }
 },
 "nbformat": 4,
 "nbformat_minor": 5
}
