{
 "cells": [
  {
   "cell_type": "code",
   "execution_count": 8,
   "id": "01764ada",
   "metadata": {},
   "outputs": [
    {
     "name": "stdout",
     "output_type": "stream",
     "text": [
      "Overwriting Evolution.py\n"
     ]
    }
   ],
   "source": [
    "%%writefile Evolution.py\n",
    "from AgentModule import *\n",
    "from Environment import *\n",
    "from Observation import *\n",
    "from InitializationVariables import *\n",
    "\n",
    "from IPython import display\n",
    "import time\n",
    "\n",
    "\n",
    "print('imported evolution module')\n",
    "\n",
    "def initializeAgents(agent_count, agents = None):\n",
    "    if not agents:\n",
    "        agents = []\n",
    "    for i in range(agent_count):\n",
    "        agent_instance = Agent(id=(i+1), gene=getStartGene(), xCoord = random.randint(0, environment_xSize - 1), yCoord=random.randint(0, environment_ySize - 1))\n",
    "        agents.append(agent_instance)\n",
    "    return agents\n",
    "\n",
    "\n",
    "def runCycle(steps_per_cycle, agents, environment, barrierMask,distToBarrier, survivalMask, environment_pop_density, killing):\n",
    "    colorScale = getColorScale(agents)\n",
    "    for i in range(steps_per_cycle):\n",
    "        plotpts = operateAll(agents, barrierMask, distToBarrier, environment_pop_density,  killing, survivalMask)\n",
    "        \n",
    "        observe(environment, agents, barrierMask, survivalMask, colorScale,environment_pop_density, plotpts)\n",
    "        environment = resetEnv(environment)\n",
    "        \n",
    "        environment_pop_density = getPopDensity(environment_pop_density, agents)\n",
    "        \n",
    "        display.clear_output(wait=True)\n",
    "        time.sleep(0.1)\n",
    "    livingAgents, killcount = collectLivingAgents(agents, survivalMask)\n",
    "    environment = resetEnv(environment)\n",
    "    return livingAgents, environment, killcount\n",
    "\n",
    "def simCycle(steps_per_cycle, agents, environment, barrierMask, distToBarrier, survivalMask, environment_pop_density, killing):\n",
    "    for i in range(steps_per_cycle):\n",
    "        operateAll(agents, barrierMask, distToBarrier, environment_pop_density,  killing, survivalMask)\n",
    "        environment = resetEnv(environment)\n",
    "    livingAgents, killcount = collectLivingAgents(agents, survivalMask)\n",
    "    environment = resetEnv(environment)\n",
    "    return livingAgents, environment, killcount\n",
    "\n",
    "\n",
    "def collectLivingAgents(agents, survivalMask):\n",
    "    livingAgents = []\n",
    "    killCount = 0\n",
    "    for agent in agents:\n",
    "        if not agent.dead:\n",
    "            if survivalMask[agent.xCoord][agent.yCoord] : livingAgents.append(agent)\n",
    "        else: killCount += 1\n",
    "    return livingAgents, killCount\n",
    "\n",
    "\n",
    "\n",
    "def repopulateAgents(livingAgents, monogamous):\n",
    "    nextGenAgents = []\n",
    "    survivors = len(livingAgents)\n",
    "    if survivors == 0 :\n",
    "        print('extinct')\n",
    "        return None\n",
    "    reproduction_rate = agent_count / survivors\n",
    "    if monogamous : \n",
    "        for agent in livingAgents:\n",
    "            partner = livingAgents[random.randint(0, survivors-1)]\n",
    "            for i in range(round(reproduction_rate)):\n",
    "                child = breed(agent, partner)\n",
    "                nextGenAgents.append(child)\n",
    "    else :\n",
    "        for agent in livingAgents:\n",
    "            for i in range (round(reproduction_rate)):\n",
    "                partner = livingAgents[random.randint(0, survivors-1)]\n",
    "                child = breed(agent, partner)\n",
    "                nextGenAgents.append(child)\n",
    "                \n",
    "    return nextGenAgents\n",
    "\n",
    "def avg_int(a, b):\n",
    "    return (a+b)%agent_count\n",
    "\n",
    "def breed(agent1, agent2):\n",
    "    child = Agent(avg_int(agent1.id, agent2.id), mutate(agent1.gene,agent2.gene), xCoord = random.randint(0, environment_xSize - 1), yCoord=random.randint(0, environment_ySize - 1))\n",
    "    return child\n",
    "\n",
    "\n",
    "def mutate(gene1, gene2):\n",
    "    gene1 = gene1.T\n",
    "    gene2 = gene2.T\n",
    "\n",
    "    gene_merged = np.zeros(gene1.shape)\n",
    "\n",
    "    for i in range(len(gene1)):\n",
    "        if i%2 ==0 :\n",
    "            gene_merged[i] = gene1[i]\n",
    "        else :\n",
    "            gene_merged[i] = gene2[i]\n",
    "\n",
    "        if random.random() < mutation_chance:\n",
    "            gene_merged[i] = np.zeros(gene_merged[i].shape)\n",
    "            \n",
    "            non_zero_indices = np.random.choice(len(gene_merged[i]), 3, replace=False)\n",
    "            gene_merged[i,non_zero_indices] = np.random.rand(3) \n",
    "            gene_merged[i] = gene_merged[i]/sum(gene_merged[i])\n",
    "    \n",
    "    return gene_merged.T\n",
    "\n",
    "\n",
    "def getStartGene():\n",
    "    N = D_r\n",
    "    M = activationNodeCount\n",
    "\n",
    "    matrix = np.zeros((N, M))\n",
    "    for j in range(M):\n",
    "        non_zero_indices = np.random.choice(N, 3, replace=False)\n",
    "        matrix[non_zero_indices, j] = np.random.rand(3) \n",
    "    \n",
    "    # Normalize each Row so that its elements sum to 1\n",
    "    matrix /= matrix.sum(axis=0, keepdims=True)\n",
    "    return matrix\n",
    "\n",
    "\n",
    "\n",
    "\n",
    "\n",
    "def getColorScale(agents):\n",
    "    maxVal = 1\n",
    "    for agent in agents:\n",
    "        thisVal = np.max(np.abs(agent.color))\n",
    "        if thisVal > maxVal: maxVal = thisVal\n",
    "    return maxVal\n",
    "\n",
    "def getGeneticSimilarity(agents1, agents2):\n",
    "    avgBrain1 = np.zeros(agents1[0].agentBrain.pVals.T.shape)\n",
    "    avgBrain2 = np.zeros(agents2[0].agentBrain.pVals.T.shape)\n",
    "\n",
    "    for agent in agents1:\n",
    "        avgBrain1 += agent.agentBrain.pVals.T\n",
    "    avgBrain1 = avgBrain1/len(agents1)\n",
    "\n",
    "    for agent in agents2:\n",
    "        avgBrain2 += agent.agentBrain.pVals.T\n",
    "    avgBrain2 = avgBrain2/len(agents2)\n",
    "    \n",
    "    return sum( (sum(avgBrain1)- sum(avgBrain2)) **2)\n"
   ]
  },
  {
   "cell_type": "markdown",
   "id": "e283de1f-6417-41b3-9140-a83c532b53be",
   "metadata": {},
   "source": [
    "gene = 0\n",
    "\n",
    "W_in_network = []\n",
    "A_network = []\n",
    "idea = []\n",
    "pVals = []\n",
    "\n",
    "\n",
    "sensorVals = []"
   ]
  },
  {
   "cell_type": "code",
   "execution_count": 112,
   "id": "c0ef1e4d-9935-4dcb-9649-66094da97d38",
   "metadata": {},
   "outputs": [],
   "source": [
    "g1 = getStartGene()\n",
    "g2 = getStartGene()"
   ]
  },
  {
   "cell_type": "code",
   "execution_count": 113,
   "id": "c5b2227b-5b86-47e0-826e-04235b30e0fc",
   "metadata": {},
   "outputs": [],
   "source": [
    "g3 = mutate(g1,g2)"
   ]
  },
  {
   "cell_type": "code",
   "execution_count": 114,
   "id": "bf700d9f-3639-4905-9b37-7b43250d8781",
   "metadata": {},
   "outputs": [
    {
     "data": {
      "text/plain": [
       "array([[0.        , 0.86863177, 0.        , 0.        , 0.        ],\n",
       "       [0.        , 0.        , 0.        , 0.        , 0.        ],\n",
       "       [0.        , 0.        , 0.        , 0.01958851, 0.        ],\n",
       "       [0.        , 0.00221133, 0.        , 0.        , 0.        ],\n",
       "       [0.05053778, 0.        , 0.        , 0.        , 0.        ],\n",
       "       [0.35116896, 0.        , 0.51071376, 0.        , 0.17767771],\n",
       "       [0.        , 0.        , 0.        , 0.        , 0.        ],\n",
       "       [0.        , 0.        , 0.        , 0.78335837, 0.        ],\n",
       "       [0.59829326, 0.1291569 , 0.0196335 , 0.19705312, 0.55056708],\n",
       "       [0.        , 0.        , 0.46965274, 0.        , 0.2717552 ]])"
      ]
     },
     "execution_count": 114,
     "metadata": {},
     "output_type": "execute_result"
    }
   ],
   "source": [
    "g1"
   ]
  },
  {
   "cell_type": "code",
   "execution_count": 115,
   "id": "d3f3b3ab-bf37-4190-a75e-21ec9a510607",
   "metadata": {},
   "outputs": [
    {
     "data": {
      "text/plain": [
       "array([[0.        , 0.        , 0.        , 0.        , 0.        ],\n",
       "       [0.38407299, 0.4294129 , 0.        , 0.06423492, 0.41839535],\n",
       "       [0.        , 0.        , 0.        , 0.        , 0.        ],\n",
       "       [0.        , 0.        , 0.39190717, 0.        , 0.        ],\n",
       "       [0.31305904, 0.        , 0.        , 0.        , 0.        ],\n",
       "       [0.        , 0.31470179, 0.        , 0.48401089, 0.45153057],\n",
       "       [0.        , 0.        , 0.32482009, 0.45175419, 0.        ],\n",
       "       [0.30286796, 0.25588531, 0.        , 0.        , 0.        ],\n",
       "       [0.        , 0.        , 0.        , 0.        , 0.13007407],\n",
       "       [0.        , 0.        , 0.28327274, 0.        , 0.        ]])"
      ]
     },
     "execution_count": 115,
     "metadata": {},
     "output_type": "execute_result"
    }
   ],
   "source": [
    "g2"
   ]
  },
  {
   "cell_type": "code",
   "execution_count": 116,
   "id": "cef9818a-1411-4c48-89df-651168c2c4b8",
   "metadata": {},
   "outputs": [
    {
     "data": {
      "text/plain": [
       "array([[0.12869427, 0.        , 0.        , 0.        , 0.        ],\n",
       "       [0.        , 0.4294129 , 0.        , 0.06423492, 0.        ],\n",
       "       [0.        , 0.        , 0.        , 0.        , 0.        ],\n",
       "       [0.        , 0.        , 0.41268254, 0.        , 0.        ],\n",
       "       [0.        , 0.        , 0.        , 0.        , 0.        ],\n",
       "       [0.        , 0.31470179, 0.        , 0.48401089, 0.17767771],\n",
       "       [0.        , 0.        , 0.3058325 , 0.45175419, 0.        ],\n",
       "       [0.        , 0.25588531, 0.        , 0.        , 0.        ],\n",
       "       [0.60751082, 0.        , 0.28148496, 0.        , 0.55056708],\n",
       "       [0.26379491, 0.        , 0.        , 0.        , 0.2717552 ]])"
      ]
     },
     "execution_count": 116,
     "metadata": {},
     "output_type": "execute_result"
    }
   ],
   "source": [
    "g3"
   ]
  },
  {
   "cell_type": "code",
   "execution_count": null,
   "id": "0bcbe049-3338-47f1-b134-f53204d9be70",
   "metadata": {},
   "outputs": [],
   "source": []
  }
 ],
 "metadata": {
  "kernelspec": {
   "display_name": "Python 3 (ipykernel)",
   "language": "python",
   "name": "python3"
  },
  "language_info": {
   "codemirror_mode": {
    "name": "ipython",
    "version": 3
   },
   "file_extension": ".py",
   "mimetype": "text/x-python",
   "name": "python",
   "nbconvert_exporter": "python",
   "pygments_lexer": "ipython3",
   "version": "3.11.7"
  }
 },
 "nbformat": 4,
 "nbformat_minor": 5
}
