{
 "cells": [
  {
   "cell_type": "code",
   "execution_count": 43,
   "id": "d5cb069f-a1ec-4515-8d31-17bd94e3943d",
   "metadata": {},
   "outputs": [
    {
     "name": "stdout",
     "output_type": "stream",
     "text": [
      "Overwriting NodeFunctions.py\n"
     ]
    }
   ],
   "source": [
    "%%writefile NodeFunctions.py\n",
    "\n",
    "import numpy as np\n",
    "import random \n",
    "from InitializationVariables import *\n",
    "\n",
    "def activationThreshold(inputValue):\n",
    "    probability = np.arctan(inputValue / 100) * 2 / np.pi\n",
    "    roll = random.random()\n",
    "    return roll > probability\n",
    "\n",
    "    \n",
    "\n",
    "\n",
    "def updateAngularVelocity(fire):\n",
    "    if fire: return 1\n",
    "    return 0\n",
    "    \n",
    "def updateAngle(fire):\n",
    "    if fire: return 1\n",
    "    return 0\n",
    "\n",
    "def updateVelocity(fire):\n",
    "    if fire: return 1\n",
    "    return 0\n",
    "\n",
    "\n",
    "##Action Functions: Input value from a single source range [-100, 100], sum all sources \n",
    "def function0(fire):\n",
    "    if fire : return [0,0,0]\n",
    "    return [0,0,0]\n",
    "\n",
    "def function1(fire):\n",
    "    if fire : return [0,1,0]\n",
    "    return [0,0,0]\n",
    "\n",
    "def function2(fire):\n",
    "    if fire : return [1,0,0]\n",
    "    return [0,0,0]\n",
    "\n",
    "def function3(fire):\n",
    "    if fire : return [1,1,0]\n",
    "    return [0,0,0]\n",
    "\n",
    "def function4(fire):\n",
    "    if fire : return [0,-1,0]\n",
    "    return [0,0,0]\n",
    "\n",
    "def function5(fire):\n",
    "    if fire : return [-1,0,0]\n",
    "    return [0,0,0]\n",
    "\n",
    "def function6(fire):\n",
    "    if fire : return [-1,-1,0]\n",
    "    return [0,0,0]\n",
    "\n",
    "def function7(fire):\n",
    "    if fire : return [1,-1,0]\n",
    "    return [0,0,0]\n",
    "\n",
    "def function8(fire):\n",
    "    if fire : return [-1,1,0]\n",
    "    return [0,0,0]\n",
    "\n",
    "\n",
    "def function9(fire, facing):     #Move Forward\n",
    "    moveTo = [0, 0, 0]\n",
    "    if facing == 0  : moveTo[0] = 1\n",
    "    elif facing == 1: moveTo[1] = 1\n",
    "    elif facing == 2: moveTo[0] = -1\n",
    "    elif facing == 3: moveTo[1] = -1\n",
    "    \n",
    "    if fire : return moveTo\n",
    "    return [0,0,0]\n",
    "\n",
    "def function10(fire, facing):    #Move Backward\n",
    "    moveTo = [0, 0, 0]\n",
    "    if facing == 0  : moveTo[0] = -1\n",
    "    elif facing == 1: moveTo[1] = -1\n",
    "    elif facing == 2: moveTo[0] = 1\n",
    "    elif facing == 3: moveTo[1] = 1\n",
    "    \n",
    "    if fire : return moveTo\n",
    "    return [0,0,0]\n",
    "\n",
    "def function11(fire, facing):    #Turn counterClockwise\n",
    "    if fire : return [0,0,1]\n",
    "    return [0,0,0]\n",
    "\n",
    "def function12(fire, facing):    #Turn Clockwise\n",
    "    if fire : return [0,0,-1]\n",
    "    return [0,0,0]\n",
    "\n",
    "def functionKill(fire, killing):\n",
    "    if killing: \n",
    "        if random.random() > .9: return fire\n",
    "    return False\n",
    "\n",
    "\n",
    "\n",
    "    \n",
    "\n",
    "\n",
    "\n",
    "\n",
    "\n",
    "##Sensor Functions:\n",
    "def getLoc_X(xCoord):\n",
    "    xPercent = xCoord / environment_xSize\n",
    "    return xPercent \n",
    "\n",
    "def getLoc_Y(yCoord):\n",
    "    yPercent = yCoord / environment_ySize\n",
    "    return yPercent \n",
    "\n",
    "def getBoundary_Dist_x(xCoord):\n",
    "    xPercent = (environment_xSize - xCoord) / environment_xSize\n",
    "    return xPercent \n",
    "\n",
    "def getBoundary_Dist_y(yCoord):\n",
    "    yPercent = (environment_ySize - yCoord) / environment_ySize\n",
    "    return yPercent \n",
    "\n",
    "def getBoundary_Dist(xCoord, yCoord):\n",
    "    minDist = min(getBoundary_Dist_x(xCoord), getBoundary_Dist_y(yCoord), getLoc_X(xCoord), getLoc_Y(yCoord))\n",
    "    return minDist\n",
    "\n",
    "\n",
    "def getOscilatorVal(age):\n",
    "    freq = 4\n",
    "    oscilationVal = np.sin(2*np.pi * freq * age / steps_per_cycle)\n",
    "    \n",
    "    return oscilationVal\n",
    "\n",
    "def getAge(age):\n",
    "    agePercent = age / steps_per_cycle\n",
    "    return agePercent \n",
    "\n",
    "\n",
    "def getRandom():\n",
    "    return random.random()\n",
    "\n",
    "\n",
    "def rayDist(xCoord, yCoord, start_angle, ray_angle, environment_pop_density, barrierMask, survivalMask):\n",
    "    obstructions = environment_pop_density | barrierMask\n",
    "    theta = (start_angle + ray_angle) % (2*np.pi)\n",
    "\n",
    "\n",
    "    return calculateRayIntersection(xCoord, yCoord, start_angle, theta, obstructions, survivalMask)\n",
    "\n",
    "\n",
    "\n",
    "def calculateRayIntersection(x, y, start_angle, theta, obstructions, survivalMask):\n",
    "    # Define the direction vector using theta\n",
    "    dx = np.cos(theta)\n",
    "    dy = np.sin(theta)\n",
    "   \n",
    "\n",
    "\n",
    "    facingDir = [np.cos(start_angle) * (agent_radius), np.sin(start_angle) *(agent_radius)]\n",
    "\n",
    "    facingCoord_x = round(facingDir[0])\n",
    "    facingCoord_y = round(facingDir[1])\n",
    "\n",
    "    if abs(facingCoord_x) > abs(facingCoord_y):\n",
    "        facingCoord_x = (agent_radius + 1) * facingCoord_x / abs(facingCoord_x)\n",
    "    else:\n",
    "        facingCoord_y = (agent_radius + 1) * facingCoord_y / abs(facingCoord_y)\n",
    "\n",
    "    \n",
    "    \n",
    "\n",
    "    \n",
    "    # Initialize distance to zero\n",
    "    distance = 0\n",
    "\n",
    "    survivalDistance = vision_distance\n",
    "    if survivalMask[x, y]: survivalDistance = 0\n",
    "\n",
    "    \n",
    "\n",
    "    ptsForPlotting = []\n",
    "\n",
    "    \n",
    "    # Incrementally move along the ray until we hit an obstruction\n",
    "    while True and distance < vision_distance:\n",
    "        # Calculate the next position along the ray\n",
    "        next_x = int(x + distance * dx + facingCoord_x)\n",
    "        next_y = int(y + distance * dy + facingCoord_y)\n",
    "        \n",
    "        \n",
    "\n",
    "        # ax.plot(next_x, next_y, 'o', color='blue')\n",
    "\n",
    "        # Check if the next position is within the bounds of the obstructions array\n",
    "        if next_x < 0 or next_x >= environment_xSize or next_y < 0 or next_y >= environment_ySize:\n",
    "            # If we're out of bounds, return a large value to indicate no intersection\n",
    "            return distance, ptsForPlotting, survivalDistance\n",
    "\n",
    "        \n",
    "        if survivalMask[next_x, next_y]:\n",
    "            survivalDistance = min(distance, survivalDistance)\n",
    "        else:\n",
    "            ptsForPlotting.append((next_x, next_y))\n",
    "        \n",
    "        # Check if there's an obstruction at the next position\n",
    "        if obstructions[next_x, next_y]:\n",
    "            # If there's an obstruction, return the distance to it\n",
    "            return distance, ptsForPlotting, survivalDistance\n",
    "        \n",
    "        # Increment the distance along the ray\n",
    "        distance += 1\n",
    "\n",
    "    # print(f'vision : {vision_distance} survival : {survivalDistance}')\n",
    "\n",
    "    return vision_distance, ptsForPlotting, survivalDistance\n",
    "\n",
    "\n",
    "def seeAngularVelocity(omega):\n",
    "    return omega / maxAngularVelocity\n",
    "    \n",
    "###Finish Functions\n",
    "\n"
   ]
  },
  {
   "cell_type": "code",
   "execution_count": 10,
   "id": "45c1eca8-2d61-4ae4-a43e-de3127356b12",
   "metadata": {},
   "outputs": [
    {
     "ename": "NameError",
     "evalue": "name 'math' is not defined",
     "output_type": "error",
     "traceback": [
      "\u001b[0;31m---------------------------------------------------------------------------\u001b[0m",
      "\u001b[0;31mNameError\u001b[0m                                 Traceback (most recent call last)",
      "Cell \u001b[0;32mIn[10], line 1\u001b[0m\n\u001b[0;32m----> 1\u001b[0m math\u001b[38;5;241m.\u001b[39msign(\u001b[38;5;241m-\u001b[39m\u001b[38;5;241m3\u001b[39m)\n",
      "\u001b[0;31mNameError\u001b[0m: name 'math' is not defined"
     ]
    }
   ],
   "source": [
    "math.sign(-3)"
   ]
  },
  {
   "cell_type": "code",
   "execution_count": 2,
   "id": "52a595d4-1c13-42a0-b12f-8e42ae381c65",
   "metadata": {},
   "outputs": [],
   "source": [
    "import numpy as np\n",
    "import matplotlib.pyplot as plt"
   ]
  },
  {
   "cell_type": "code",
   "execution_count": 20,
   "id": "79238bdc-1e0d-4ef8-9c5d-51164d3314c8",
   "metadata": {},
   "outputs": [],
   "source": [
    "environment_pop_density = np.full((100,100), False)\n",
    "barrierMask = np.full((100,100), False)\n",
    "\n",
    "for x in range(100):\n",
    "    for y in range(100):\n",
    "        if x % 2 == 0 and y %2 == 0:\n",
    "            environment_pop_density[x, y] = True\n",
    "        if x % 3 == 0 and y %5 == 0:\n",
    "            barrierMask[x, y] = True"
   ]
  },
  {
   "cell_type": "code",
   "execution_count": 21,
   "id": "dd603a89-29cf-4f4b-a8b0-7b6fac3fda85",
   "metadata": {},
   "outputs": [],
   "source": [
    "combo = environment_pop_density | barrierMask"
   ]
  },
  {
   "cell_type": "code",
   "execution_count": 22,
   "id": "4eaf43e0-a385-4671-8f58-aa3df3e55d63",
   "metadata": {},
   "outputs": [
    {
     "data": {
      "image/png": "[encoded data removed]",
      "text/plain": [
       "<Figure size 640x480 with 1 Axes>"
      ]
     },
     "metadata": {},
     "output_type": "display_data"
    }
   ],
   "source": [
    "plt.imshow(combo, cmap='gray', vmin=0, vmax=1)\n",
    "plt.show()"
   ]
  },
  {
   "cell_type": "code",
   "execution_count": 74,
   "id": "313f262e-2434-4efd-94fc-e8358d0a16cc",
   "metadata": {},
   "outputs": [],
   "source": [
    "import numpy as np\n",
    "\n",
    "def calculateRayIntersection(x, y, theta, obstructions,ax):\n",
    "    # Define the direction vector using theta\n",
    "    dx = np.cos(theta)\n",
    "    dy = np.sin(theta)\n",
    "    \n",
    "    # Initialize distance to zero\n",
    "    distance = agent_radius\n",
    "    \n",
    "    # Incrementally move along the ray until we hit an obstruction\n",
    "    while True or distance < 10:\n",
    "        # Calculate the next position along the ray\n",
    "        next_x = int(x + distance * dx)\n",
    "        next_y = int(y + distance * dy)\n",
    "\n",
    "        # ax.plot(next_x, next_y, 'o', color='blue')\n",
    "        \n",
    "        # Check if the next position is within the bounds of the obstructions array\n",
    "        if next_x < 0 or next_x >= obstructions.shape[1] or next_y < 0 or next_y >= obstructions.shape[0]:\n",
    "            # If we're out of bounds, return a large value to indicate no intersection\n",
    "            return distance\n",
    "        \n",
    "        # Check if there's an obstruction at the next position\n",
    "        if obstructions[next_y, next_x]:\n",
    "            # If there's an obstruction, return the distance to it\n",
    "            return distance\n",
    "        \n",
    "        # Increment the distance along the ray\n",
    "        distance += 1\n",
    "\n",
    "# Example usage:\n",
    "# Create an example obstructions array"
   ]
  },
  {
   "cell_type": "code",
   "execution_count": 65,
   "id": "a1d23ed0-c181-480a-8f3f-ba4b6dc06a40",
   "metadata": {},
   "outputs": [],
   "source": [
    "agent_radius = 5"
   ]
  },
  {
   "cell_type": "code",
   "execution_count": 66,
   "id": "5e606ead-3b8a-42f1-8e2b-82b160eac182",
   "metadata": {},
   "outputs": [],
   "source": [
    "import random"
   ]
  },
  {
   "cell_type": "code",
   "execution_count": 67,
   "id": "f1febdec-4e07-4411-b9d4-920d8794cd81",
   "metadata": {},
   "outputs": [],
   "source": [
    "size = 40\n",
    "obstructions = np.full((size,size),False)\n",
    "\n",
    "for x in range(size):\n",
    "    for y in range(size):\n",
    "        if random.random() < .1:\n",
    "            obstructions[x][y] = True\n",
    "\n"
   ]
  },
  {
   "cell_type": "code",
   "execution_count": null,
   "id": "4a05f180-6a6c-4504-b519-aa39a49516d1",
   "metadata": {},
   "outputs": [],
   "source": []
  },
  {
   "cell_type": "code",
   "execution_count": 68,
   "id": "a0419910-96b4-418a-b859-fa2b5c060428",
   "metadata": {},
   "outputs": [],
   "source": [
    "angleMax = np.pi/4\n",
    "numRays = 5\n",
    "angles = np.linspace(-angleMax, angleMax, numRays)"
   ]
  },
  {
   "cell_type": "code",
   "execution_count": 69,
   "id": "1ba914f5-1164-41ff-aecf-3d039bee6a97",
   "metadata": {},
   "outputs": [
    {
     "name": "stdout",
     "output_type": "stream",
     "text": [
      "Shortest distance: 19\n"
     ]
    },
    {
     "data": {
      "text/plain": [
       "[<matplotlib.lines.Line2D at 0x1280781d0>]"
      ]
     },
     "execution_count": 69,
     "metadata": {},
     "output_type": "execute_result"
    },
    {
     "data": {
      "image/png": "[encoded data removed]",
      "text/plain": [
       "<Figure size 640x480 with 1 Axes>"
      ]
     },
     "metadata": {},
     "output_type": "display_data"
    }
   ],
   "source": [
    "fig, ax = plt.subplots()\n",
    "x, y = 10, 10\n",
    "theta = np.pi / 4  # 45 degrees\n",
    "\n",
    "distances = []\n",
    "for theta in angles:\n",
    "    distances.append(calculateRayIntersection(x, y, theta, obstructions, ax))\n",
    "    \n",
    "print(\"Shortest distance:\", distance)\n",
    "\n",
    "ax.imshow(obstructions, cmap='gray', vmin=0, vmax=1)\n",
    "ax.plot(x, y, 'o', color='red')"
   ]
  },
  {
   "cell_type": "code",
   "execution_count": 59,
   "id": "040162c8-1e04-4e86-ade0-ed6abedf9e74",
   "metadata": {},
   "outputs": [
    {
     "data": {
      "text/plain": [
       "[3, 29, 7, 3, 19]"
      ]
     },
     "execution_count": 59,
     "metadata": {},
     "output_type": "execute_result"
    }
   ],
   "source": [
    "distances"
   ]
  },
  {
   "cell_type": "code",
   "execution_count": null,
   "id": "cd82de1e-be82-4b43-b874-4855be35a267",
   "metadata": {},
   "outputs": [],
   "source": []
  }
 ],
 "metadata": {
  "kernelspec": {
   "display_name": "Python 3 (ipykernel)",
   "language": "python",
   "name": "python3"
  },
  "language_info": {
   "codemirror_mode": {
    "name": "ipython",
    "version": 3
   },
   "file_extension": ".py",
   "mimetype": "text/x-python",
   "name": "python",
   "nbconvert_exporter": "python",
   "pygments_lexer": "ipython3",
   "version": "3.11.7"
  }
 },
 "nbformat": 4,
 "nbformat_minor": 5
}
